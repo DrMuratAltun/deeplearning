{
 "cells": [
  {
   "cell_type": "markdown",
   "id": "13d97d4c",
   "metadata": {},
   "source": [
    "### Computer Vision Deep Learning"
   ]
  },
  {
   "cell_type": "code",
   "execution_count": 13,
   "id": "85a834df",
   "metadata": {},
   "outputs": [
    {
     "name": "stdout",
     "output_type": "stream",
     "text": [
      "WARNING:tensorflow:From C:\\Users\\emura\\AppData\\Roaming\\Python\\Python311\\site-packages\\keras\\src\\losses.py:2976: The name tf.losses.sparse_softmax_cross_entropy is deprecated. Please use tf.compat.v1.losses.sparse_softmax_cross_entropy instead.\n",
      "\n"
     ]
    }
   ],
   "source": [
    "import tensorflow as tf"
   ]
  },
  {
   "cell_type": "code",
   "execution_count": 14,
   "id": "3ef9538e",
   "metadata": {},
   "outputs": [],
   "source": [
    "mnist=tf.keras.datasets.mnist"
   ]
  },
  {
   "cell_type": "code",
   "execution_count": 15,
   "id": "3ddc4169",
   "metadata": {},
   "outputs": [
    {
     "name": "stdout",
     "output_type": "stream",
     "text": [
      "Downloading data from https://storage.googleapis.com/tensorflow/tf-keras-datasets/mnist.npz\n",
      "11490434/11490434 [==============================] - 5s 0us/step\n"
     ]
    }
   ],
   "source": [
    "(train_images,train_labels),(test_images,test_labels)=mnist.load_data()"
   ]
  },
  {
   "cell_type": "code",
   "execution_count": 16,
   "id": "df66c787",
   "metadata": {},
   "outputs": [
    {
     "data": {
      "text/plain": [
       "(60000, 28, 28)"
      ]
     },
     "execution_count": 16,
     "metadata": {},
     "output_type": "execute_result"
    }
   ],
   "source": [
    "train_images.shape"
   ]
  },
  {
   "cell_type": "code",
   "execution_count": 17,
   "id": "92340dc4",
   "metadata": {},
   "outputs": [],
   "source": [
    "import matplotlib.pyplot as plt"
   ]
  },
  {
   "cell_type": "code",
   "execution_count": 18,
   "id": "355b9ff2",
   "metadata": {},
   "outputs": [
    {
     "data": {
      "text/plain": [
       "<matplotlib.image.AxesImage at 0x2cf2c318dd0>"
      ]
     },
     "execution_count": 18,
     "metadata": {},
     "output_type": "execute_result"
    },
    {
     "data": {
      "image/png": "[encoded data removed]",
      "text/plain": [
       "<Figure size 640x480 with 1 Axes>"
      ]
     },
     "metadata": {},
     "output_type": "display_data"
    }
   ],
   "source": [
    "plt.imshow(train_images[0],cmap='gray')"
   ]
  },
  {
   "cell_type": "code",
   "execution_count": 19,
   "id": "23590931",
   "metadata": {},
   "outputs": [
    {
     "data": {
      "text/plain": [
       "<matplotlib.image.AxesImage at 0x2cf2d516610>"
      ]
     },
     "execution_count": 19,
     "metadata": {},
     "output_type": "execute_result"
    },
    {
     "data": {
      "image/png": "[encoded data removed]",
      "text/plain": [
       "<Figure size 640x480 with 1 Axes>"
      ]
     },
     "metadata": {},
     "output_type": "display_data"
    }
   ],
   "source": [
    "plt.imshow(train_images[31],cmap='gray')"
   ]
  },
  {
   "cell_type": "code",
   "execution_count": 20,
   "id": "269870ea",
   "metadata": {},
   "outputs": [
    {
     "data": {
      "text/plain": [
       "(10000, 28, 28)"
      ]
     },
     "execution_count": 20,
     "metadata": {},
     "output_type": "execute_result"
    }
   ],
   "source": [
    "test_images.shape"
   ]
  },
  {
   "cell_type": "code",
   "execution_count": 21,
   "id": "21b944cc",
   "metadata": {},
   "outputs": [
    {
     "data": {
      "text/plain": [
       "array([[  0,   0,   0,   0,   0,   0,   0,   0,   0,   0,   0,   0,   0,\n",
       "          0,   0,   0,   0,   0,   0,   0,   0,   0,   0,   0,   0,   0,\n",
       "          0,   0],\n",
       "       [  0,   0,   0,   0,   0,   0,   0,   0,   0,   0,   0,   0,   0,\n",
       "          0,   0,   0,   0,   0,   0,   0,   0,   0,   0,   0,   0,   0,\n",
       "          0,   0],\n",
       "       [  0,   0,   0,   0,   0,   0,   0,   0,   0,   0,   0,   0,   0,\n",
       "          0,   0,   0,   0,   0,   0,   0,   0,   0,   0,   0,   0,   0,\n",
       "          0,   0],\n",
       "       [  0,   0,   0,   0,   0,   0,   0,   0,   0,   0,   0,   0,   0,\n",
       "          0,   0,   0,   0,   0,   0,   0,   0,   0,   0,   0,   0,   0,\n",
       "          0,   0],\n",
       "       [  0,   0,   0,   0,   0,   0,   0,   0,   0,   0,   0,   0,   0,\n",
       "          0,   0,   0,   0,   0,   0,   0,   0,   0,   0,   0,   0,   0,\n",
       "          0,   0],\n",
       "       [  0,   0,   0,   0,   0,   0,   0,   0,   0,   0,   0,   0,   0,\n",
       "         42, 154, 180, 255, 176, 118, 118,  16,   0,   0,   0,   0,   0,\n",
       "          0,   0],\n",
       "       [  0,   0,   0,   0,   0,   0,   0,   0,   0,   0,   0,   0,   0,\n",
       "        142, 253, 253, 253, 253, 253, 253, 236, 103,   0,   0,   0,   0,\n",
       "          0,   0],\n",
       "       [  0,   0,   0,   0,   0,   0,   0,   0,   0,   0,   0,   0,   0,\n",
       "        227, 253, 253, 204, 177, 177, 177, 243, 191,   0,   0,   0,   0,\n",
       "          0,   0],\n",
       "       [  0,   0,   0,   0,   0,   0,   0,   0,   0,   0,   0,   0,   0,\n",
       "        227, 253, 216,  22,   0,   0,  23, 227, 238,  96,  21,   0,   0,\n",
       "          0,   0],\n",
       "       [  0,   0,   0,   0,   0,   0,   0,   0,   0,   0,   0,   0,   0,\n",
       "        227, 253, 205,   0,   0,  17, 124, 253, 253, 253, 170,   0,   0,\n",
       "          0,   0],\n",
       "       [  0,   0,   0,   0,   0,   0,   0,   0,   0,   0,   0,   0,   0,\n",
       "        227, 253, 234,  62,  18, 201, 253, 253, 253, 251,  90,   0,   0,\n",
       "          0,   0],\n",
       "       [  0,   0,   0,   0,   0,   0,   0,   0,   0,   0,   0,   0,   0,\n",
       "        227, 253, 253, 253, 253, 253, 253, 253, 221, 103,   0,   0,   0,\n",
       "          0,   0],\n",
       "       [  0,   0,   0,   0,   0,   0,   0,   0,   0,   0,   0,   0,   0,\n",
       "        227, 253, 253, 253, 253, 253, 208,  24,   5,   0,   0,   0,   0,\n",
       "          0,   0],\n",
       "       [  0,   0,   0,   0,   0,   0,   0,   0,   0,   0,   0,   0,  39,\n",
       "        236, 253, 253, 253, 251,  97,  16,   0,   0,   0,   0,   0,   0,\n",
       "          0,   0],\n",
       "       [  0,   0,   0,   0,   0,   0,   0,   0,   0,   0,   4,  69, 224,\n",
       "        253, 253, 240, 169,  46,   0,   0,   0,   0,   0,   0,   0,   0,\n",
       "          0,   0],\n",
       "       [  0,   0,   0,   0,   0,   0,   0,   0,   0,  33, 134, 253, 253,\n",
       "        253, 253, 105,   0,   0,   0,   0,   0,   0,   0,   0,   0,   0,\n",
       "          0,   0],\n",
       "       [  0,   0,   0,   0,   0,   0,   0,   0,  51, 225, 253, 253, 253,\n",
       "        253, 253,  68,   0,   0,   0,   0,   0,   0,   0,   0,   0,   0,\n",
       "          0,   0],\n",
       "       [  0,   0,   0,   0,   0,   0,   0,  48, 227, 253, 253, 250, 174,\n",
       "        253, 253,  68,   0,   0,   0,   0,   0,   0,   0,   0,   0,   0,\n",
       "          0,   0],\n",
       "       [  0,   0,   0,   0,   0,   0,   0, 213, 253, 253, 179,  63, 111,\n",
       "        253, 253,  68,   0,   0,   0,   0,   0,   0,   0,   0,   0,   0,\n",
       "          0,   0],\n",
       "       [  0,   0,   0,   0,   0,   0,  92, 251, 201,  13,   5,   0, 166,\n",
       "        253, 253,  68,   0,   0,   0,   0,   0,   0,   0,   0,   0,   0,\n",
       "          0,   0],\n",
       "       [  0,   0,   0,   0,   0,  39, 222, 253, 198,   0,   0,   0, 248,\n",
       "        253, 231,  46,   0,   0,   0,   0,   0,   0,   0,   0,   0,   0,\n",
       "          0,   0],\n",
       "       [  0,   0,   0,   0,   0,  54, 243, 253, 124,   0,  38, 133, 252,\n",
       "        253, 150,   0,   0,   0,   0,   0,   0,   0,   0,   0,   0,   0,\n",
       "          0,   0],\n",
       "       [  0,   0,   0,   0,   0, 118, 253, 253, 237, 179, 223, 253, 253,\n",
       "        190,  14,   0,   0,   0,   0,   0,   0,   0,   0,   0,   0,   0,\n",
       "          0,   0],\n",
       "       [  0,   0,   0,   0,   0,  44, 230, 253, 253, 253, 253, 253, 244,\n",
       "         76,   0,   0,   0,   0,   0,   0,   0,   0,   0,   0,   0,   0,\n",
       "          0,   0],\n",
       "       [  0,   0,   0,   0,   0,   0,  45, 231, 253, 253, 253, 182,  66,\n",
       "          0,   0,   0,   0,   0,   0,   0,   0,   0,   0,   0,   0,   0,\n",
       "          0,   0],\n",
       "       [  0,   0,   0,   0,   0,   0,   0,   0,   0,   0,   0,   0,   0,\n",
       "          0,   0,   0,   0,   0,   0,   0,   0,   0,   0,   0,   0,   0,\n",
       "          0,   0],\n",
       "       [  0,   0,   0,   0,   0,   0,   0,   0,   0,   0,   0,   0,   0,\n",
       "          0,   0,   0,   0,   0,   0,   0,   0,   0,   0,   0,   0,   0,\n",
       "          0,   0],\n",
       "       [  0,   0,   0,   0,   0,   0,   0,   0,   0,   0,   0,   0,   0,\n",
       "          0,   0,   0,   0,   0,   0,   0,   0,   0,   0,   0,   0,   0,\n",
       "          0,   0]], dtype=uint8)"
      ]
     },
     "execution_count": 21,
     "metadata": {},
     "output_type": "execute_result"
    }
   ],
   "source": [
    "train_images[31]"
   ]
  },
  {
   "cell_type": "code",
   "execution_count": 22,
   "id": "fcff3a30",
   "metadata": {},
   "outputs": [],
   "source": [
    "#normalize data"
   ]
  },
  {
   "cell_type": "code",
   "execution_count": 23,
   "id": "25a54b69",
   "metadata": {},
   "outputs": [],
   "source": [
    "train_images=train_images/255"
   ]
  },
  {
   "cell_type": "code",
   "execution_count": 24,
   "id": "5b26ac7a",
   "metadata": {},
   "outputs": [],
   "source": [
    "test_images=test_images/255"
   ]
  },
  {
   "cell_type": "code",
   "execution_count": 25,
   "id": "8b56f0f8",
   "metadata": {},
   "outputs": [],
   "source": [
    "# CNN image Classificaiton"
   ]
  },
  {
   "cell_type": "code",
   "execution_count": 35,
   "id": "b90d329c",
   "metadata": {},
   "outputs": [],
   "source": [
    "from tensorflow.keras import Sequential\n",
    "from tensorflow.keras.layers import Dense,Conv2D,InputLayer,Reshape, MaxPooling2D,Flatten"
   ]
  },
  {
   "cell_type": "code",
   "execution_count": 41,
   "id": "71f7c390",
   "metadata": {},
   "outputs": [
    {
     "name": "stdout",
     "output_type": "stream",
     "text": [
      "WARNING:tensorflow:From C:\\Users\\emura\\AppData\\Roaming\\Python\\Python311\\site-packages\\keras\\src\\optimizers\\__init__.py:309: The name tf.train.Optimizer is deprecated. Please use tf.compat.v1.train.Optimizer instead.\n",
      "\n"
     ]
    }
   ],
   "source": [
    "model=Sequential()\n",
    "model.add(InputLayer(input_shape=(28,28))) #28*28\n",
    "model.add(Reshape(target_shape=(28,28,1)))\n",
    "model.add(Conv2D(filters=12, kernel_size=(3,3), activation='relu'))\n",
    "model.add(MaxPooling2D(pool_size=(2,2)))\n",
    "model.add(Flatten())\n",
    "model.add(Dense(10)) #sayılar\n",
    "model.compile(optimizer='adam',loss=tf.losses.SparseCategoricalCrossentropy(from_logits=True),\n",
    "             metrics=['accuracy'])\n"
   ]
  },
  {
   "cell_type": "code",
   "execution_count": 42,
   "id": "5670a592",
   "metadata": {},
   "outputs": [
    {
     "name": "stdout",
     "output_type": "stream",
     "text": [
      "Epoch 1/10\n",
      "WARNING:tensorflow:From C:\\Users\\emura\\AppData\\Roaming\\Python\\Python311\\site-packages\\keras\\src\\utils\\tf_utils.py:492: The name tf.ragged.RaggedTensorValue is deprecated. Please use tf.compat.v1.ragged.RaggedTensorValue instead.\n",
      "\n",
      "WARNING:tensorflow:From C:\\Users\\emura\\AppData\\Roaming\\Python\\Python311\\site-packages\\keras\\src\\engine\\base_layer_utils.py:384: The name tf.executing_eagerly_outside_functions is deprecated. Please use tf.compat.v1.executing_eagerly_outside_functions instead.\n",
      "\n",
      "1688/1688 [==============================] - 11s 6ms/step - loss: 0.2727 - accuracy: 0.9249 - val_loss: 0.0991 - val_accuracy: 0.9740\n",
      "Epoch 2/10\n",
      "1688/1688 [==============================] - 9s 5ms/step - loss: 0.0993 - accuracy: 0.9715 - val_loss: 0.0783 - val_accuracy: 0.9782\n",
      "Epoch 3/10\n",
      "1688/1688 [==============================] - 9s 5ms/step - loss: 0.0758 - accuracy: 0.9783 - val_loss: 0.0670 - val_accuracy: 0.9803\n",
      "Epoch 4/10\n",
      "1688/1688 [==============================] - 9s 5ms/step - loss: 0.0635 - accuracy: 0.9814 - val_loss: 0.0738 - val_accuracy: 0.9783\n",
      "Epoch 5/10\n",
      "1688/1688 [==============================] - 9s 5ms/step - loss: 0.0553 - accuracy: 0.9836 - val_loss: 0.0599 - val_accuracy: 0.9835\n",
      "Epoch 6/10\n",
      "1688/1688 [==============================] - 9s 6ms/step - loss: 0.0491 - accuracy: 0.9854 - val_loss: 0.0604 - val_accuracy: 0.9838\n",
      "Epoch 7/10\n",
      "1688/1688 [==============================] - 9s 5ms/step - loss: 0.0435 - accuracy: 0.9872 - val_loss: 0.0586 - val_accuracy: 0.9847\n",
      "Epoch 8/10\n",
      "1688/1688 [==============================] - 9s 5ms/step - loss: 0.0399 - accuracy: 0.9879 - val_loss: 0.0617 - val_accuracy: 0.9822\n",
      "Epoch 9/10\n",
      "1688/1688 [==============================] - 9s 5ms/step - loss: 0.0359 - accuracy: 0.9889 - val_loss: 0.0601 - val_accuracy: 0.9837\n",
      "Epoch 10/10\n",
      "1688/1688 [==============================] - 9s 5ms/step - loss: 0.0330 - accuracy: 0.9905 - val_loss: 0.0554 - val_accuracy: 0.9850\n"
     ]
    }
   ],
   "source": [
    "history=model.fit(train_images,train_labels,validation_split=.10, epochs=10)"
   ]
  },
  {
   "cell_type": "code",
   "execution_count": 44,
   "id": "2e6fd649",
   "metadata": {},
   "outputs": [
    {
     "name": "stdout",
     "output_type": "stream",
     "text": [
      "313/313 [==============================] - 1s 3ms/step - loss: 0.0656 - accuracy: 0.9795\n"
     ]
    }
   ],
   "source": [
    "loss,accuracy=model.evaluate(test_images,test_labels)"
   ]
  },
  {
   "cell_type": "code",
   "execution_count": 45,
   "id": "246f29b8",
   "metadata": {},
   "outputs": [
    {
     "data": {
      "text/plain": [
       "(0.06556154787540436, 0.9794999957084656)"
      ]
     },
     "execution_count": 45,
     "metadata": {},
     "output_type": "execute_result"
    }
   ],
   "source": [
    "loss,accuracy"
   ]
  },
  {
   "cell_type": "code",
   "execution_count": 46,
   "id": "8c861ee9",
   "metadata": {},
   "outputs": [
    {
     "name": "stderr",
     "output_type": "stream",
     "text": [
      "C:\\Users\\emura\\AppData\\Roaming\\Python\\Python311\\site-packages\\keras\\src\\engine\\training.py:3103: UserWarning: You are saving your model as an HDF5 file via `model.save()`. This file format is considered legacy. We recommend using instead the native Keras format, e.g. `model.save('my_model.keras')`.\n",
      "  saving_api.save_model(\n"
     ]
    }
   ],
   "source": [
    "model.save('my_hand_writing_model.h5')"
   ]
  },
  {
   "cell_type": "markdown",
   "id": "938daaa2",
   "metadata": {},
   "source": [
    "#Deep Leanring Başarı artırma\n",
    "1. Layers Sayısını arttır\n",
    "2. Nöron sayısnı artır\n",
    "3. Dropout Overfitting i engeller\n",
    "4. BatchNormalization "
   ]
  },
  {
   "cell_type": "code",
   "execution_count": 1,
   "id": "48cb8251",
   "metadata": {},
   "outputs": [
    {
     "name": "stdout",
     "output_type": "stream",
     "text": [
      "WARNING:tensorflow:From C:\\Users\\emura\\AppData\\Roaming\\Python\\Python311\\site-packages\\keras\\src\\losses.py:2976: The name tf.losses.sparse_softmax_cross_entropy is deprecated. Please use tf.compat.v1.losses.sparse_softmax_cross_entropy instead.\n",
      "\n"
     ]
    }
   ],
   "source": [
    "from tensorflow.keras import Sequential\n",
    "from tensorflow.keras.layers import Dense,Conv2D,InputLayer,Reshape, MaxPooling2D,Flatten, Dropout, BatchNormalization"
   ]
  },
  {
   "cell_type": "code",
   "execution_count": null,
   "id": "0c08dee7",
   "metadata": {},
   "outputs": [],
   "source": [
    "model=Sequential()\n",
    "model.add(InputLayer(input_shape=(28,28))) #28*28\n",
    "model.add(Reshape(target_shape=(28,28,1)))\n",
    "model.add(Conv2D(filters=12, kernel_size=(3,3), activation='relu'))\n",
    "model.add(MaxPooling2D(pool_size=(2,2)))\n",
    "model.add(Flatten())\n",
    "model.add(BatchNormalization())\n",
    "model.add(Dense(60))\n",
    "model.add(Dropout(.25))\n",
    "model.add(Dense(10)) #sayılar\n",
    "model.compile(optimizer='adam',loss=tf.losses.SparseCategoricalCrossentropy(from_logits=True),\n",
    "             metrics=['accuracy'])\n"
   ]
  }
 ],
 "metadata": {
  "kernelspec": {
   "display_name": "Python 3 (ipykernel)",
   "language": "python",
   "name": "python3"
  },
  "language_info": {
   "codemirror_mode": {
    "name": "ipython",
    "version": 3
   },
   "file_extension": ".py",
   "mimetype": "text/x-python",
   "name": "python",
   "nbconvert_exporter": "python",
   "pygments_lexer": "ipython3",
   "version": "3.11.5"
  }
 },
 "nbformat": 4,
 "nbformat_minor": 5
}
